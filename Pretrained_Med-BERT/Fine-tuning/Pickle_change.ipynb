{
  "nbformat": 4,
  "nbformat_minor": 0,
  "metadata": {
    "colab": {
      "provenance": []
    },
    "kernelspec": {
      "name": "python3",
      "display_name": "Python 3"
    },
    "language_info": {
      "name": "python"
    }
  },
  "cells": [
    {
      "cell_type": "code",
      "execution_count": 14,
      "metadata": {
        "colab": {
          "base_uri": "https://localhost:8080/"
        },
        "id": "vzNCydZAwTle",
        "outputId": "260b41ae-7d48-446d-f1a2-a67d93f68984"
      },
      "outputs": [
        {
          "output_type": "stream",
          "name": "stdout",
          "text": [
            "/content/my_bertft.valid.pkl 저장 완료!\n"
          ]
        }
      ],
      "source": [
        "import pickle\n",
        "import numpy as np\n",
        "import random\n",
        "\n",
        "# 파일명\n",
        "infile = '/content/output_prefix.bencs.valid'\n",
        "outfile = '/content/my_bertft.valid.pkl'\n",
        "\n",
        "# 데이터 불러오기\n",
        "sequences = np.load(infile, allow_pickle=True)\n",
        "\n",
        "bert_inputs = []\n",
        "for item in sequences:\n",
        "    input_ids = item[1]\n",
        "    segment_ids = item[3]\n",
        "    label = random.randint(0, 1) #label 랜덤 지정\n",
        "    bert_inputs.append((input_ids, segment_ids, label))\n",
        "\n",
        "# 저장\n",
        "with open(outfile, 'wb') as f:\n",
        "    pickle.dump(bert_inputs, f)\n",
        "\n",
        "print(f\"{outfile} 저장 완료!\")\n"
      ]
    },
    {
      "cell_type": "code",
      "source": [
        "import pickle, random\n",
        "\n",
        "with open('/content/my_bertft.test.pkl', 'rb') as f:\n",
        "    all_test = pickle.load(f)\n",
        "subset_size = 5000  # 예시\n",
        "test_f2 = random.sample(all_test, min(subset_size, len(all_test)))\n",
        "with open('/content/my_bertft.test_f2.pkl', 'wb') as f:\n",
        "    pickle.dump(test_f2, f)"
      ],
      "metadata": {
        "id": "LpwjRYz3zEqz"
      },
      "execution_count": 15,
      "outputs": []
    }
  ]
}